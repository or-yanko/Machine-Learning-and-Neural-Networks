{
 "cells": [
  {
   "cell_type": "markdown",
   "metadata": {},
   "source": [
    "### imports and get data"
   ]
  },
  {
   "cell_type": "code",
   "execution_count": 2,
   "metadata": {},
   "outputs": [],
   "source": [
    "# imports for array-handling and plotting\n",
    "import numpy as np\n",
    "import matplotlib\n",
    "matplotlib.use('agg')\n",
    "import matplotlib.pyplot as plt\n",
    "\n",
    "# let's keep our keras backend tensorflow quiet\n",
    "import os\n",
    "os.environ['TF_CPP_MIN_LOG_LEVEL']='3'\n",
    "# for testing on CPU\n",
    "#os.environ['CUDA_VISIBLE_DEVICES'] = ''\n",
    "\n",
    "# keras imports for the dataset and building our neural network\n",
    "from keras.datasets import mnist\n",
    "from keras.models import Sequential, load_model\n",
    "from keras.layers.core import Dense, Dropout, Activation\n",
    "from keras.utils import np_utils\n",
    "\n",
    "(X_train1, y_train1), (X_test1, y_test1) = mnist.load_data()"
   ]
  },
  {
   "cell_type": "markdown",
   "metadata": {},
   "source": [
    "### preprocces the data"
   ]
  },
  {
   "cell_type": "code",
   "execution_count": 3,
   "metadata": {},
   "outputs": [],
   "source": [
    "# building the input vector from the 28x28 pixels\n",
    "X_train = X_train1.reshape(60000, 784)\n",
    "X_test = X_test1.reshape(10000, 784)\n",
    "X_train = X_train.astype('float32')\n",
    "X_test = X_test.astype('float32')\n",
    "\n",
    "# normalizing the data to help with the training\n",
    "X_train /= 255\n",
    "X_test /= 255\n",
    "\n",
    "n_classes = 10\n",
    "\n",
    "Y_train = np_utils.to_categorical(y_train1, n_classes)\n",
    "Y_test = np_utils.to_categorical(y_test1, n_classes)\n"
   ]
  },
  {
   "cell_type": "markdown",
   "metadata": {},
   "source": [
    "### create the model"
   ]
  },
  {
   "cell_type": "code",
   "execution_count": null,
   "metadata": {},
   "outputs": [],
   "source": [
    "# building a linear stack of layers with the sequential model\n",
    "model = Sequential()\n",
    "model.add(Dense(512, input_shape=(784,)))\n",
    "model.add(Activation('relu'))                            \n",
    "model.add(Dropout(0.2))\n",
    "\n",
    "model.add(Dense(512))\n",
    "model.add(Activation('relu'))\n",
    "model.add(Dropout(0.2))\n",
    "\n",
    "model.add(Dense(10))\n",
    "model.add(Activation('softmax'))"
   ]
  },
  {
   "cell_type": "markdown",
   "metadata": {},
   "source": [
    "### compiling and training the model and saving it"
   ]
  },
  {
   "cell_type": "code",
   "execution_count": null,
   "metadata": {},
   "outputs": [],
   "source": [
    "# compiling the sequential model\n",
    "model.compile(loss='categorical_crossentropy', metrics=['accuracy'], optimizer='adam')\n",
    "\n",
    "# training the model and saving metrics in history\n",
    "history = model.fit(X_train, Y_train,\n",
    "          batch_size=128, epochs=12,\n",
    "          verbose=2,\n",
    "          validation_data=(X_test, Y_test))\n",
    "\n",
    "# saving the model\n",
    "model_name = 'model_mnist.h5'\n",
    "model_path = os.path.join(os. getcwd(), model_name)\n",
    "model.save(model_path)"
   ]
  },
  {
   "cell_type": "markdown",
   "metadata": {},
   "source": [
    "### evaluate the model"
   ]
  },
  {
   "cell_type": "code",
   "execution_count": 3,
   "metadata": {},
   "outputs": [
    {
     "name": "stdout",
     "output_type": "stream",
     "text": [
      "313/313 - 1s - loss: 0.0732 - accuracy: 0.9837 - 1s/epoch - 4ms/step\n",
      "Test Loss 0.07320665568113327\n",
      "Test Accuracy 0.9836999773979187\n"
     ]
    }
   ],
   "source": [
    "model_name = 'model_mnist.h5'\n",
    "model_path = os.path.join(os. getcwd(), model_name)\n",
    "mnist_model = load_model(model_path)\n",
    "loss_and_metrics = mnist_model.evaluate(X_test, Y_test, verbose=2)\n",
    "\n",
    "print(\"Test Loss\", loss_and_metrics[0])\n",
    "print(\"Test Accuracy\", loss_and_metrics[1])"
   ]
  },
  {
   "cell_type": "markdown",
   "metadata": {},
   "source": [
    "### test the model"
   ]
  },
  {
   "cell_type": "code",
   "execution_count": 4,
   "metadata": {},
   "outputs": [],
   "source": [
    "model_name = 'model_mnist.h5'\n",
    "model_path = os.path.join(os. getcwd(), model_name)\n",
    "mnist_model = load_model(model_path)\n",
    "predictions = mnist_model.predict(X_test)\n",
    "\n",
    "resualts = []\n",
    "for i in predictions:\n",
    "    resualts.append(np.argmax(i))"
   ]
  },
  {
   "cell_type": "code",
   "execution_count": 85,
   "metadata": {},
   "outputs": [
    {
     "name": "stdout",
     "output_type": "stream",
     "text": [
      "[[8.3330873e-04 8.5423499e-06 1.9490926e-07 5.6130872e-08 3.6077759e-05\n",
      "  6.7590410e-03 8.9942521e-01 9.2935145e-02 2.4207964e-06 2.4014648e-08]]\n",
      "the number you draw is: 6\n"
     ]
    }
   ],
   "source": [
    "import pygame as pg\n",
    "\n",
    "def init():\n",
    "    global screen\n",
    "\n",
    "    pg.init()\n",
    "    screen = pg.display.set_mode((422, 422))\n",
    "    mainloop()\n",
    "\n",
    "\n",
    "drawing = False\n",
    "last_pos = None\n",
    "w = 42\n",
    "color = (255,255,255)#(0, 0, 0)\n",
    "\n",
    "\n",
    "def draw(event):\n",
    "    global drawing, last_pos, w\n",
    "\n",
    "    if event.type == pg.MOUSEMOTION:\n",
    "        if (drawing):\n",
    "            mouse_position = pg.mouse.get_pos()\n",
    "            if last_pos is not None:\n",
    "                pg.draw.line(screen, color, last_pos, mouse_position, w)\n",
    "            last_pos = mouse_position\n",
    "    elif event.type == pg.MOUSEBUTTONUP:\n",
    "        mouse_position = (0, 0)\n",
    "        drawing = False\n",
    "        last_pos = None\n",
    "    elif event.type == pg.MOUSEBUTTONDOWN:\n",
    "        drawing = True\n",
    "\n",
    "\n",
    "def mainloop():\n",
    "    global screen\n",
    "    loop = 1\n",
    "    while loop:\n",
    "        # checks every user interaction in this list\n",
    "        for event in pg.event.get():\n",
    "            if event.type == pg.QUIT:\n",
    "                loop = 0\n",
    "            if event.type == pg.KEYDOWN:\n",
    "                if event.key == pg.K_s:\n",
    "                    pg.image.save(screen, \"image.png\")\n",
    "                    loop = 0\n",
    "            draw(event)\n",
    "        pg.display.flip()\n",
    "    pg.quit()\n",
    "\n",
    "\n",
    "init()\n",
    "\n",
    "from PIL import Image\n",
    "from numpy import asarray\n",
    "\n",
    "model_name = 'model_mnist.h5'\n",
    "model_path = os.path.join(os. getcwd(), model_name)\n",
    "mnist_model = load_model(model_path)\n",
    "\n",
    "image = Image.open(\"image.png\")\n",
    "image_array = np.array(image)\n",
    "\n",
    "shaped_array =np.array([28*[28*[0]]])\n",
    "for a in range(0,420,28):\n",
    "    for b in range(0,420,28):\n",
    "        if image_array[a][b][0] == 255:\n",
    "            shaped_array[0][a//28][b//28] = 1\n",
    "shaped_array =shaped_array.reshape(1,784)\n",
    "shaped_array =shaped_array.astype('float32')\n",
    "\n",
    "prediction = mnist_model.predict(shaped_array)\n",
    "res = np.argmax(prediction[0])\n",
    "print(prediction)\n",
    "print('the number you draw is:',res)\n",
    "\n"
   ]
  }
 ],
 "metadata": {
  "interpreter": {
   "hash": "40d3a090f54c6569ab1632332b64b2c03c39dcf918b08424e98f38b5ae0af88f"
  },
  "kernelspec": {
   "display_name": "Python 3.9.7 ('base')",
   "language": "python",
   "name": "python3"
  },
  "language_info": {
   "codemirror_mode": {
    "name": "ipython",
    "version": 3
   },
   "file_extension": ".py",
   "mimetype": "text/x-python",
   "name": "python",
   "nbconvert_exporter": "python",
   "pygments_lexer": "ipython3",
   "version": "3.9.7"
  },
  "orig_nbformat": 4
 },
 "nbformat": 4,
 "nbformat_minor": 2
}
