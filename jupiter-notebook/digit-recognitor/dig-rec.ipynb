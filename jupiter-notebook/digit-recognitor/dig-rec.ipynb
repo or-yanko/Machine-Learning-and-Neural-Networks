{
 "cells": [
  {
   "cell_type": "markdown",
   "metadata": {},
   "source": [
    "### imports and get data"
   ]
  },
  {
   "cell_type": "code",
   "execution_count": 1,
   "metadata": {},
   "outputs": [],
   "source": [
    "# imports for array-handling and plotting\n",
    "import numpy as np\n",
    "import matplotlib\n",
    "matplotlib.use('agg')\n",
    "import matplotlib.pyplot as plt\n",
    "\n",
    "# let's keep our keras backend tensorflow quiet\n",
    "import os\n",
    "os.environ['TF_CPP_MIN_LOG_LEVEL']='3'\n",
    "# for testing on CPU\n",
    "#os.environ['CUDA_VISIBLE_DEVICES'] = ''\n",
    "\n",
    "# keras imports for the dataset and building our neural network\n",
    "from keras.datasets import mnist\n",
    "from keras.models import Sequential, load_model\n",
    "from keras.layers.core import Dense, Dropout, Activation\n",
    "from keras.utils import np_utils\n",
    "\n",
    "(X_train1, y_train1), (X_test1, y_test1) = mnist.load_data()"
   ]
  },
  {
   "cell_type": "markdown",
   "metadata": {},
   "source": [
    "### preprocces the data"
   ]
  },
  {
   "cell_type": "code",
   "execution_count": 2,
   "metadata": {},
   "outputs": [],
   "source": [
    "# building the input vector from the 28x28 pixels\n",
    "X_train = X_train1.reshape(60000, 784)\n",
    "X_test = X_test1.reshape(10000, 784)\n",
    "X_train = X_train.astype('float32')\n",
    "X_test = X_test.astype('float32')\n",
    "\n",
    "# normalizing the data to help with the training\n",
    "X_train /= 255\n",
    "X_test /= 255\n",
    "\n",
    "n_classes = 10\n",
    "\n",
    "Y_train = np_utils.to_categorical(y_train1, n_classes)\n",
    "Y_test = np_utils.to_categorical(y_test1, n_classes)\n"
   ]
  },
  {
   "cell_type": "markdown",
   "metadata": {},
   "source": [
    "### create the model"
   ]
  },
  {
   "cell_type": "code",
   "execution_count": 3,
   "metadata": {},
   "outputs": [],
   "source": [
    "# building a linear stack of layers with the sequential model\n",
    "model = Sequential()\n",
    "model.add(Dense(512, input_shape=(784,)))\n",
    "model.add(Activation('relu'))                            \n",
    "model.add(Dropout(0.2))\n",
    "\n",
    "model.add(Dense(512))\n",
    "model.add(Activation('relu'))\n",
    "model.add(Dropout(0.2))\n",
    "\n",
    "model.add(Dense(10))\n",
    "model.add(Activation('softmax'))"
   ]
  },
  {
   "cell_type": "markdown",
   "metadata": {},
   "source": [
    "### compiling and training the model and saving it"
   ]
  },
  {
   "cell_type": "code",
   "execution_count": 4,
   "metadata": {},
   "outputs": [
    {
     "name": "stdout",
     "output_type": "stream",
     "text": [
      "Epoch 1/12\n",
      "469/469 - 3s - loss: 0.2509 - accuracy: 0.9233 - val_loss: 0.1194 - val_accuracy: 0.9632 - 3s/epoch - 7ms/step\n",
      "Epoch 2/12\n",
      "469/469 - 3s - loss: 0.1026 - accuracy: 0.9681 - val_loss: 0.0835 - val_accuracy: 0.9739 - 3s/epoch - 6ms/step\n",
      "Epoch 3/12\n",
      "469/469 - 3s - loss: 0.0717 - accuracy: 0.9771 - val_loss: 0.0740 - val_accuracy: 0.9760 - 3s/epoch - 7ms/step\n",
      "Epoch 4/12\n",
      "469/469 - 4s - loss: 0.0554 - accuracy: 0.9819 - val_loss: 0.0704 - val_accuracy: 0.9796 - 4s/epoch - 8ms/step\n",
      "Epoch 5/12\n",
      "469/469 - 3s - loss: 0.0460 - accuracy: 0.9850 - val_loss: 0.0686 - val_accuracy: 0.9793 - 3s/epoch - 7ms/step\n",
      "Epoch 6/12\n",
      "469/469 - 3s - loss: 0.0380 - accuracy: 0.9876 - val_loss: 0.0659 - val_accuracy: 0.9806 - 3s/epoch - 6ms/step\n",
      "Epoch 7/12\n",
      "469/469 - 3s - loss: 0.0348 - accuracy: 0.9885 - val_loss: 0.0757 - val_accuracy: 0.9787 - 3s/epoch - 6ms/step\n",
      "Epoch 8/12\n",
      "469/469 - 3s - loss: 0.0306 - accuracy: 0.9900 - val_loss: 0.0647 - val_accuracy: 0.9816 - 3s/epoch - 6ms/step\n",
      "Epoch 9/12\n",
      "469/469 - 3s - loss: 0.0278 - accuracy: 0.9903 - val_loss: 0.0757 - val_accuracy: 0.9800 - 3s/epoch - 6ms/step\n",
      "Epoch 10/12\n",
      "469/469 - 3s - loss: 0.0275 - accuracy: 0.9912 - val_loss: 0.0658 - val_accuracy: 0.9828 - 3s/epoch - 6ms/step\n",
      "Epoch 11/12\n",
      "469/469 - 3s - loss: 0.0229 - accuracy: 0.9925 - val_loss: 0.0717 - val_accuracy: 0.9821 - 3s/epoch - 6ms/step\n",
      "Epoch 12/12\n",
      "469/469 - 3s - loss: 0.0193 - accuracy: 0.9933 - val_loss: 0.0732 - val_accuracy: 0.9837 - 3s/epoch - 6ms/step\n"
     ]
    }
   ],
   "source": [
    "# compiling the sequential model\n",
    "model.compile(loss='categorical_crossentropy', metrics=['accuracy'], optimizer='adam')\n",
    "\n",
    "# training the model and saving metrics in history\n",
    "history = model.fit(X_train, Y_train,\n",
    "          batch_size=128, epochs=12,\n",
    "          verbose=2,\n",
    "          validation_data=(X_test, Y_test))\n",
    "\n",
    "# saving the model\n",
    "model_name = 'model_mnist.h5'\n",
    "model_path = os.path.join(os. getcwd(), model_name)\n",
    "model.save(model_path)"
   ]
  },
  {
   "cell_type": "markdown",
   "metadata": {},
   "source": [
    "### evaluate the model"
   ]
  },
  {
   "cell_type": "code",
   "execution_count": 5,
   "metadata": {},
   "outputs": [
    {
     "name": "stdout",
     "output_type": "stream",
     "text": [
      "313/313 - 1s - loss: 0.0732 - accuracy: 0.9837 - 557ms/epoch - 2ms/step\n",
      "Test Loss 0.07320665568113327\n",
      "Test Accuracy 0.9836999773979187\n"
     ]
    }
   ],
   "source": [
    "model_name = 'model_mnist.h5'\n",
    "model_path = os.path.join(os. getcwd(), model_name)\n",
    "mnist_model = load_model(model_path)\n",
    "loss_and_metrics = mnist_model.evaluate(X_test, Y_test, verbose=2)\n",
    "\n",
    "print(\"Test Loss\", loss_and_metrics[0])\n",
    "print(\"Test Accuracy\", loss_and_metrics[1])"
   ]
  },
  {
   "cell_type": "markdown",
   "metadata": {},
   "source": [
    "### test the model"
   ]
  },
  {
   "cell_type": "code",
   "execution_count": 6,
   "metadata": {},
   "outputs": [],
   "source": [
    "model_name = 'model_mnist.h5'\n",
    "model_path = os.path.join(os. getcwd(), model_name)\n",
    "mnist_model = load_model(model_path)\n",
    "predictions = mnist_model.predict(X_test)"
   ]
  },
  {
   "cell_type": "code",
   "execution_count": 7,
   "metadata": {},
   "outputs": [],
   "source": [
    "resualts = []\n",
    "for i in predictions:\n",
    "    resualts.append(np.argmax(i))"
   ]
  },
  {
   "cell_type": "code",
   "execution_count": 16,
   "metadata": {},
   "outputs": [
    {
     "data": {
      "text/plain": [
       "(28, 28)"
      ]
     },
     "execution_count": 16,
     "metadata": {},
     "output_type": "execute_result"
    }
   ],
   "source": [
    "X_test1[0].shape"
   ]
  },
  {
   "cell_type": "code",
   "execution_count": 22,
   "metadata": {},
   "outputs": [
    {
     "data": {
      "text/plain": [
       "<matplotlib.image.AxesImage at 0x7f8002e89580>"
      ]
     },
     "execution_count": 22,
     "metadata": {},
     "output_type": "execute_result"
    }
   ],
   "source": [
    "plt.matshow(X_test1[0])\n"
   ]
  },
  {
   "cell_type": "code",
   "execution_count": null,
   "metadata": {},
   "outputs": [],
   "source": [
    "img = X_test[0]\n",
    "imgplot = plt.imshow(img)\n",
    "plt.show()\n"
   ]
  },
  {
   "cell_type": "code",
   "execution_count": null,
   "metadata": {},
   "outputs": [],
   "source": []
  },
  {
   "cell_type": "code",
   "execution_count": null,
   "metadata": {},
   "outputs": [],
   "source": []
  },
  {
   "cell_type": "code",
   "execution_count": null,
   "metadata": {},
   "outputs": [],
   "source": []
  }
 ],
 "metadata": {
  "interpreter": {
   "hash": "40d3a090f54c6569ab1632332b64b2c03c39dcf918b08424e98f38b5ae0af88f"
  },
  "kernelspec": {
   "display_name": "Python 3.9.7 ('base')",
   "language": "python",
   "name": "python3"
  },
  "language_info": {
   "codemirror_mode": {
    "name": "ipython",
    "version": 3
   },
   "file_extension": ".py",
   "mimetype": "text/x-python",
   "name": "python",
   "nbconvert_exporter": "python",
   "pygments_lexer": "ipython3",
   "version": "3.9.7"
  },
  "orig_nbformat": 4
 },
 "nbformat": 4,
 "nbformat_minor": 2
}
