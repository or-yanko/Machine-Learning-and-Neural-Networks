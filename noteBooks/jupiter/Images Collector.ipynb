{
 "cells": [
  {
   "cell_type": "markdown",
   "metadata": {},
   "source": [
    "# 1. imports and installations"
   ]
  },
  {
   "cell_type": "code",
   "execution_count": 1,
   "metadata": {
    "scrolled": true
   },
   "outputs": [
    {
     "name": "stdout",
     "output_type": "stream",
     "text": [
      "Requirement already satisfied: opencv-python in c:\\users\\gilya\\desktop\\jupiter virtual environment\\virtualisolatedfolder\\lib\\site-packages (4.5.2.52)\n",
      "Requirement already satisfied: numpy>=1.14.5 in c:\\users\\gilya\\desktop\\jupiter virtual environment\\virtualisolatedfolder\\lib\\site-packages (from opencv-python) (1.20.3)\n"
     ]
    }
   ],
   "source": [
    "!pip install opencv-python\n",
    "import cv2\n",
    "import uuid\n",
    "import os\n",
    "import time"
   ]
  },
  {
   "cell_type": "markdown",
   "metadata": {},
   "source": [
    "# 2. define images collections"
   ]
  },
  {
   "cell_type": "code",
   "execution_count": 13,
   "metadata": {},
   "outputs": [],
   "source": [
    "labels = ['thumb_up', 'thumb_down', 'third_finger']\n",
    "number_imgs = 6"
   ]
  },
  {
   "cell_type": "markdown",
   "metadata": {},
   "source": [
    "# 3. setup folder for pictures"
   ]
  },
  {
   "cell_type": "code",
   "execution_count": 9,
   "metadata": {},
   "outputs": [],
   "source": [
    "IMAGES_PATH = os.path.join('Tensorflow', 'workspace','images','collectedimages')\n",
    "if not os.path.exists(IMAGES_PATH):\n",
    "    if os.name == 'posix':\n",
    "        !mkdir -p {IMAGES_PATH}\n",
    "    if os.name == 'nt':\n",
    "        !mkdir {IMAGES_PATH}\n",
    "for label in labels:\n",
    "    path = os.path.join(IMAGES_PATH, label)\n",
    "    if not os.path.exists(path):\n",
    "        !mkdir {path}"
   ]
  },
  {
   "cell_type": "markdown",
   "metadata": {},
   "source": [
    "# 4. capture images"
   ]
  },
  {
   "cell_type": "code",
   "execution_count": 14,
   "metadata": {
    "collapsed": true
   },
   "outputs": [
    {
     "name": "stdout",
     "output_type": "stream",
     "text": [
      "collecting image for: thumb_up\n",
      "image number: 0\n",
      "image number: 1\n",
      "image number: 2\n",
      "image number: 3\n",
      "image number: 4\n",
      "image number: 5\n",
      "collecting image for: thumb_down\n",
      "image number: 0\n",
      "image number: 1\n",
      "image number: 2\n",
      "image number: 3\n",
      "image number: 4\n",
      "image number: 5\n",
      "collecting image for: third_finger\n",
      "image number: 0\n",
      "image number: 1\n",
      "image number: 2\n",
      "image number: 3\n",
      "image number: 4\n",
      "image number: 5\n"
     ]
    }
   ],
   "source": [
    "for label in labels:\n",
    "    cap = cv2.VideoCapture(0)\n",
    "    print('collecting image for:',label)\n",
    "    time.sleep(5)\n",
    "    for imageNum in range(number_imgs):\n",
    "        print('image number:', imageNum)\n",
    "        ret, frame = cap.read()\n",
    "        imageName = os.path.join(IMAGES_PATH, label, label+'.'+'{}.jpg'.format(str(uuid.uuid1())))\n",
    "        cv2.imwrite(imageName, frame)\n",
    "        cv2.imshow('frame',frame)\n",
    "        time.sleep(2)\n",
    "        \n",
    "        if cv2.waitKey(1) & 0xFF == ord('q'):\n",
    "            break\n",
    "cap.release()\n",
    "cv2.destroyAllWindows()"
   ]
  },
  {
   "cell_type": "markdown",
   "metadata": {},
   "source": [
    "# 5. labeling images"
   ]
  },
  {
   "cell_type": "code",
   "execution_count": 18,
   "metadata": {},
   "outputs": [
    {
     "name": "stdout",
     "output_type": "stream",
     "text": [
      "Requirement already satisfied: pyqt5 in c:\\users\\gilya\\desktop\\jupiter virtual environment\\virtualisolatedfolder\\lib\\site-packages (5.15.4)\n",
      "Requirement already satisfied: lxml in c:\\users\\gilya\\desktop\\jupiter virtual environment\\virtualisolatedfolder\\lib\\site-packages (4.6.3)\n",
      "Requirement already satisfied: PyQt5-Qt5>=5.15 in c:\\users\\gilya\\desktop\\jupiter virtual environment\\virtualisolatedfolder\\lib\\site-packages (from pyqt5) (5.15.2)\n",
      "Requirement already satisfied: PyQt5-sip<13,>=12.8 in c:\\users\\gilya\\desktop\\jupiter virtual environment\\virtualisolatedfolder\\lib\\site-packages (from pyqt5) (12.9.0)\n"
     ]
    }
   ],
   "source": [
    "!pip install --upgrade pyqt5 lxml"
   ]
  },
  {
   "cell_type": "code",
   "execution_count": 19,
   "metadata": {},
   "outputs": [
    {
     "name": "stderr",
     "output_type": "stream",
     "text": [
      "Cloning into 'Tensorflow\\labeling'...\n"
     ]
    }
   ],
   "source": [
    "LABELING_PATH = os.path.join('Tensorflow','labeling')\n",
    "\n",
    "if not os.path.exists(LABELING_PATH):\n",
    "    !mkdir {LABELING_PATH}\n",
    "    !git clone https://github.com/tzutalin/labelImg {LABELING_PATH}"
   ]
  },
  {
   "cell_type": "code",
   "execution_count": 21,
   "metadata": {},
   "outputs": [],
   "source": [
    "if os.name == 'posix':\n",
    "    !make qt5py3\n",
    "if os.name =='nt':\n",
    "    !cd {LABELING_PATH} && pyrcc5 -o libs/resources.py resources.qrc\n"
   ]
  },
  {
   "cell_type": "code",
   "execution_count": 22,
   "metadata": {},
   "outputs": [
    {
     "name": "stdout",
     "output_type": "stream",
     "text": [
      "Image:C:\\Users\\gilya\\Desktop\\jupiter virtual Environment\\Tensorflow\\workspace\\images\\collectedimages\\third_finger\\third_finger.9ef75cac-c6cd-11eb-9a86-5ce0c56881ce.jpg -> Annotation:C:/Users/gilya/Desktop/jupiter virtual Environment/Tensorflow/workspace/images/collectedimages/third_finger/third_finger.9ef75cac-c6cd-11eb-9a86-5ce0c56881ce.xml\n",
      "Image:C:\\Users\\gilya\\Desktop\\jupiter virtual Environment\\Tensorflow\\workspace\\images\\collectedimages\\third_finger\\third_finger.a2a22b8c-c6cd-11eb-a31f-5ce0c56881ce.jpg -> Annotation:C:/Users/gilya/Desktop/jupiter virtual Environment/Tensorflow/workspace/images/collectedimages/third_finger/third_finger.a2a22b8c-c6cd-11eb-a31f-5ce0c56881ce.xml\n",
      "Image:C:\\Users\\gilya\\Desktop\\jupiter virtual Environment\\Tensorflow\\workspace\\images\\collectedimages\\third_finger\\third_finger.a3d7e158-c6cd-11eb-8d88-5ce0c56881ce.jpg -> Annotation:C:/Users/gilya/Desktop/jupiter virtual Environment/Tensorflow/workspace/images/collectedimages/third_finger/third_finger.a3d7e158-c6cd-11eb-8d88-5ce0c56881ce.xml\n",
      "Image:C:\\Users\\gilya\\Desktop\\jupiter virtual Environment\\Tensorflow\\workspace\\images\\collectedimages\\third_finger\\third_finger.a16cbea8-c6cd-11eb-be8b-5ce0c56881ce.jpg -> Annotation:C:/Users/gilya/Desktop/jupiter virtual Environment/Tensorflow/workspace/images/collectedimages/third_finger/third_finger.a16cbea8-c6cd-11eb-be8b-5ce0c56881ce.xml\n",
      "Image:C:\\Users\\gilya\\Desktop\\jupiter virtual Environment\\Tensorflow\\workspace\\images\\collectedimages\\third_finger\\third_finger.a032b248-c6cd-11eb-be20-5ce0c56881ce.jpg -> Annotation:C:/Users/gilya/Desktop/jupiter virtual Environment/Tensorflow/workspace/images/collectedimages/third_finger/third_finger.a032b248-c6cd-11eb-be20-5ce0c56881ce.xml\n",
      "Image:C:\\Users\\gilya\\Desktop\\jupiter virtual Environment\\Tensorflow\\workspace\\images\\collectedimages\\third_finger\\third_finger.a511c21a-c6cd-11eb-924a-5ce0c56881ce.jpg -> Annotation:C:/Users/gilya/Desktop/jupiter virtual Environment/Tensorflow/workspace/images/collectedimages/third_finger/third_finger.a511c21a-c6cd-11eb-924a-5ce0c56881ce.xml\n",
      "Image:C:\\Users\\gilya\\Desktop\\jupiter virtual Environment\\Tensorflow\\workspace\\images\\collectedimages\\third_finger\\third_finger.f8dd8e46-c6cc-11eb-9c52-5ce0c56881ce.jpg -> Annotation:C:/Users/gilya/Desktop/jupiter virtual Environment/Tensorflow/workspace/images/collectedimages/third_finger/third_finger.f8dd8e46-c6cc-11eb-9c52-5ce0c56881ce.xml\n",
      "Image:C:\\Users\\gilya\\Desktop\\jupiter virtual Environment\\Tensorflow\\workspace\\images\\collectedimages\\third_finger\\third_finger.fa167236-c6cc-11eb-9d0b-5ce0c56881ce.jpg -> Annotation:C:/Users/gilya/Desktop/jupiter virtual Environment/Tensorflow/workspace/images/collectedimages/third_finger/third_finger.fa167236-c6cc-11eb-9d0b-5ce0c56881ce.xml\n",
      "Image:C:\\Users\\gilya\\Desktop\\jupiter virtual Environment\\Tensorflow\\workspace\\images\\collectedimages\\third_finger\\third_finger.fb4e101c-c6cc-11eb-86a6-5ce0c56881ce.jpg -> Annotation:C:/Users/gilya/Desktop/jupiter virtual Environment/Tensorflow/workspace/images/collectedimages/third_finger/third_finger.fb4e101c-c6cc-11eb-86a6-5ce0c56881ce.xml\n",
      "Image:C:\\Users\\gilya\\Desktop\\jupiter virtual Environment\\Tensorflow\\workspace\\images\\collectedimages\\third_finger\\third_finger.fc8221e2-c6cc-11eb-988b-5ce0c56881ce.jpg -> Annotation:C:/Users/gilya/Desktop/jupiter virtual Environment/Tensorflow/workspace/images/collectedimages/third_finger/third_finger.fc8221e2-c6cc-11eb-988b-5ce0c56881ce.xml\n",
      "Image:C:\\Users\\gilya\\Desktop\\jupiter virtual Environment\\Tensorflow\\workspace\\images\\collectedimages\\third_finger\\third_finger.fdb91bf8-c6cc-11eb-9ed5-5ce0c56881ce.jpg -> Annotation:C:/Users/gilya/Desktop/jupiter virtual Environment/Tensorflow/workspace/images/collectedimages/third_finger/third_finger.fdb91bf8-c6cc-11eb-9ed5-5ce0c56881ce.xml\n",
      "Image:C:\\Users\\gilya\\Desktop\\jupiter virtual Environment\\Tensorflow\\workspace\\images\\collectedimages\\third_finger\\third_finger.fef05dee-c6cc-11eb-b565-5ce0c56881ce.jpg -> Annotation:C:/Users/gilya/Desktop/jupiter virtual Environment/Tensorflow/workspace/images/collectedimages/third_finger/third_finger.fef05dee-c6cc-11eb-b565-5ce0c56881ce.xml\n",
      "Image:C:\\Users\\gilya\\Desktop\\jupiter virtual Environment\\Tensorflow\\workspace\\images\\collectedimages\\thumb_down\\thumb_down.94cc0dc0-c6cd-11eb-98e9-5ce0c56881ce.jpg -> Annotation:C:/Users/gilya/Desktop/jupiter virtual Environment/Tensorflow/workspace/images/collectedimages/thumb_down/thumb_down.94cc0dc0-c6cd-11eb-98e9-5ce0c56881ce.xml\n",
      "Image:C:\\Users\\gilya\\Desktop\\jupiter virtual Environment\\Tensorflow\\workspace\\images\\collectedimages\\thumb_down\\thumb_down.99a8354a-c6cd-11eb-9ebb-5ce0c56881ce.jpg -> Annotation:C:/Users/gilya/Desktop/jupiter virtual Environment/Tensorflow/workspace/images/collectedimages/thumb_down/thumb_down.99a8354a-c6cd-11eb-9ebb-5ce0c56881ce.xml\n",
      "Image:C:\\Users\\gilya\\Desktop\\jupiter virtual Environment\\Tensorflow\\workspace\\images\\collectedimages\\thumb_down\\thumb_down.9870dc5c-c6cd-11eb-a10a-5ce0c56881ce.jpg -> Annotation:C:/Users/gilya/Desktop/jupiter virtual Environment/Tensorflow/workspace/images/collectedimages/thumb_down/thumb_down.9870dc5c-c6cd-11eb-a10a-5ce0c56881ce.xml\n",
      "Image:C:\\Users\\gilya\\Desktop\\jupiter virtual Environment\\Tensorflow\\workspace\\images\\collectedimages\\thumb_down\\thumb_down.96021ec2-c6cd-11eb-98a9-5ce0c56881ce.jpg -> Annotation:C:/Users/gilya/Desktop/jupiter virtual Environment/Tensorflow/workspace/images/collectedimages/thumb_down/thumb_down.96021ec2-c6cd-11eb-98a9-5ce0c56881ce.xml\n",
      "Image:C:\\Users\\gilya\\Desktop\\jupiter virtual Environment\\Tensorflow\\workspace\\images\\collectedimages\\thumb_down\\thumb_down.939133b8-c6cd-11eb-8f70-5ce0c56881ce.jpg -> Annotation:C:/Users/gilya/Desktop/jupiter virtual Environment/Tensorflow/workspace/images/collectedimages/thumb_down/thumb_down.939133b8-c6cd-11eb-8f70-5ce0c56881ce.xml\n",
      "Image:C:\\Users\\gilya\\Desktop\\jupiter virtual Environment\\Tensorflow\\workspace\\images\\collectedimages\\thumb_down\\thumb_down.973879e4-c6cd-11eb-8752-5ce0c56881ce.jpg -> Annotation:C:/Users/gilya/Desktop/jupiter virtual Environment/Tensorflow/workspace/images/collectedimages/thumb_down/thumb_down.973879e4-c6cd-11eb-8752-5ce0c56881ce.xml\n",
      "Cancel creation.\n",
      "Image:C:\\Users\\gilya\\Desktop\\jupiter virtual Environment\\Tensorflow\\workspace\\images\\collectedimages\\thumb_down\\thumb_down.ed7a794c-c6cc-11eb-af32-5ce0c56881ce.jpg -> Annotation:C:/Users/gilya/Desktop/jupiter virtual Environment/Tensorflow/workspace/images/collectedimages/thumb_down/thumb_down.ed7a794c-c6cc-11eb-af32-5ce0c56881ce.xml\n",
      "Image:C:\\Users\\gilya\\Desktop\\jupiter virtual Environment\\Tensorflow\\workspace\\images\\collectedimages\\thumb_down\\thumb_down.eeb1e8a8-c6cc-11eb-8537-5ce0c56881ce.jpg -> Annotation:C:/Users/gilya/Desktop/jupiter virtual Environment/Tensorflow/workspace/images/collectedimages/thumb_down/thumb_down.eeb1e8a8-c6cc-11eb-8537-5ce0c56881ce.xml\n",
      "Image:C:\\Users\\gilya\\Desktop\\jupiter virtual Environment\\Tensorflow\\workspace\\images\\collectedimages\\thumb_down\\thumb_down.f256e488-c6cc-11eb-aaac-5ce0c56881ce.jpg -> Annotation:C:/Users/gilya/Desktop/jupiter virtual Environment/Tensorflow/workspace/images/collectedimages/thumb_down/thumb_down.f256e488-c6cc-11eb-aaac-5ce0c56881ce.xml\n",
      "Image:C:\\Users\\gilya\\Desktop\\jupiter virtual Environment\\Tensorflow\\workspace\\images\\collectedimages\\thumb_down\\thumb_down.f3903f30-c6cc-11eb-8658-5ce0c56881ce.jpg -> Annotation:C:/Users/gilya/Desktop/jupiter virtual Environment/Tensorflow/workspace/images/collectedimages/thumb_down/thumb_down.f3903f30-c6cc-11eb-8658-5ce0c56881ce.xml\n",
      "Image:C:\\Users\\gilya\\Desktop\\jupiter virtual Environment\\Tensorflow\\workspace\\images\\collectedimages\\thumb_up\\thumb_up.8a9a9202-c6cd-11eb-9998-5ce0c56881ce.jpg -> Annotation:C:/Users/gilya/Desktop/jupiter virtual Environment/Tensorflow/workspace/images/collectedimages/thumb_up/thumb_up.8a9a9202-c6cd-11eb-9998-5ce0c56881ce.xml\n",
      "Image:C:\\Users\\gilya\\Desktop\\jupiter virtual Environment\\Tensorflow\\workspace\\images\\collectedimages\\thumb_up\\thumb_up.8bd0cc80-c6cd-11eb-9ff0-5ce0c56881ce.jpg -> Annotation:C:/Users/gilya/Desktop/jupiter virtual Environment/Tensorflow/workspace/images/collectedimages/thumb_up/thumb_up.8bd0cc80-c6cd-11eb-9ff0-5ce0c56881ce.xml\n",
      "Image:C:\\Users\\gilya\\Desktop\\jupiter virtual Environment\\Tensorflow\\workspace\\images\\collectedimages\\thumb_up\\thumb_up.8d075a00-c6cd-11eb-9c9a-5ce0c56881ce.jpg -> Annotation:C:/Users/gilya/Desktop/jupiter virtual Environment/Tensorflow/workspace/images/collectedimages/thumb_up/thumb_up.8d075a00-c6cd-11eb-9c9a-5ce0c56881ce.xml\n",
      "Image:C:\\Users\\gilya\\Desktop\\jupiter virtual Environment\\Tensorflow\\workspace\\images\\collectedimages\\thumb_up\\thumb_up.8dd993ee-c6cc-11eb-b453-5ce0c56881ce.jpg -> Annotation:C:/Users/gilya/Desktop/jupiter virtual Environment/Tensorflow/workspace/images/collectedimages/thumb_up/thumb_up.8dd993ee-c6cc-11eb-b453-5ce0c56881ce.xml\n",
      "Image:C:\\Users\\gilya\\Desktop\\jupiter virtual Environment\\Tensorflow\\workspace\\images\\collectedimages\\thumb_up\\thumb_up.8e3faaca-c6cd-11eb-a715-5ce0c56881ce.jpg -> Annotation:C:/Users/gilya/Desktop/jupiter virtual Environment/Tensorflow/workspace/images/collectedimages/thumb_up/thumb_up.8e3faaca-c6cd-11eb-a715-5ce0c56881ce.xml\n",
      "Image:C:\\Users\\gilya\\Desktop\\jupiter virtual Environment\\Tensorflow\\workspace\\images\\collectedimages\\thumb_up\\thumb_up.904dc076-c6cc-11eb-b95f-5ce0c56881ce.jpg -> Annotation:C:/Users/gilya/Desktop/jupiter virtual Environment/Tensorflow/workspace/images/collectedimages/thumb_up/thumb_up.904dc076-c6cc-11eb-b95f-5ce0c56881ce.xml\n",
      "Image:C:\\Users\\gilya\\Desktop\\jupiter virtual Environment\\Tensorflow\\workspace\\images\\collectedimages\\thumb_up\\thumb_up.877663a8-c6cd-11eb-8b71-5ce0c56881ce.jpg -> Annotation:C:/Users/gilya/Desktop/jupiter virtual Environment/Tensorflow/workspace/images/collectedimages/thumb_up/thumb_up.877663a8-c6cd-11eb-8b71-5ce0c56881ce.xml\n",
      "Image:C:\\Users\\gilya\\Desktop\\jupiter virtual Environment\\Tensorflow\\workspace\\images\\collectedimages\\thumb_up\\thumb_up.918516fe-c6cc-11eb-9734-5ce0c56881ce.jpg -> Annotation:C:/Users/gilya/Desktop/jupiter virtual Environment/Tensorflow/workspace/images/collectedimages/thumb_up/thumb_up.918516fe-c6cc-11eb-9734-5ce0c56881ce.xml\n",
      "Image:C:\\Users\\gilya\\Desktop\\jupiter virtual Environment\\Tensorflow\\workspace\\images\\collectedimages\\thumb_up\\thumb_up.8965715a-c6cd-11eb-bb10-5ce0c56881ce.jpg -> Annotation:C:/Users/gilya/Desktop/jupiter virtual Environment/Tensorflow/workspace/images/collectedimages/thumb_up/thumb_up.8965715a-c6cd-11eb-bb10-5ce0c56881ce.xml\n",
      "Image:C:\\Users\\gilya\\Desktop\\jupiter virtual Environment\\Tensorflow\\workspace\\images\\collectedimages\\thumb_up\\thumb_up.e5c31b6c-c6cc-11eb-812e-5ce0c56881ce.jpg -> Annotation:C:/Users/gilya/Desktop/jupiter virtual Environment/Tensorflow/workspace/images/collectedimages/thumb_up/thumb_up.e5c31b6c-c6cc-11eb-812e-5ce0c56881ce.xml\n",
      "Image:C:\\Users\\gilya\\Desktop\\jupiter virtual Environment\\Tensorflow\\workspace\\images\\collectedimages\\thumb_up\\thumb_up.e6f91524-c6cc-11eb-afa1-5ce0c56881ce.jpg -> Annotation:C:/Users/gilya/Desktop/jupiter virtual Environment/Tensorflow/workspace/images/collectedimages/thumb_up/thumb_up.e6f91524-c6cc-11eb-afa1-5ce0c56881ce.xml\n",
      "Image:C:\\Users\\gilya\\Desktop\\jupiter virtual Environment\\Tensorflow\\workspace\\images\\collectedimages\\thumb_up\\thumb_up.e48d4f2e-c6cc-11eb-9782-5ce0c56881ce.jpg -> Annotation:C:/Users/gilya/Desktop/jupiter virtual Environment/Tensorflow/workspace/images/collectedimages/thumb_up/thumb_up.e48d4f2e-c6cc-11eb-9782-5ce0c56881ce.xml\n",
      "Image:C:\\Users\\gilya\\Desktop\\jupiter virtual Environment\\Tensorflow\\workspace\\images\\collectedimages\\thumb_up\\thumb_up.e82f0ad4-c6cc-11eb-860a-5ce0c56881ce.jpg -> Annotation:C:/Users/gilya/Desktop/jupiter virtual Environment/Tensorflow/workspace/images/collectedimages/thumb_up/thumb_up.e82f0ad4-c6cc-11eb-860a-5ce0c56881ce.xml\n",
      "Image:C:\\Users\\gilya\\Desktop\\jupiter virtual Environment\\Tensorflow\\workspace\\images\\collectedimages\\thumb_up\\thumb_up.e2193b18-c6cc-11eb-85d5-5ce0c56881ce.jpg -> Annotation:C:/Users/gilya/Desktop/jupiter virtual Environment/Tensorflow/workspace/images/collectedimages/thumb_up/thumb_up.e2193b18-c6cc-11eb-85d5-5ce0c56881ce.xml\n",
      "Image:C:\\Users\\gilya\\Desktop\\jupiter virtual Environment\\Tensorflow\\workspace\\images\\collectedimages\\thumb_up\\thumb_up.e3571c8a-c6cc-11eb-8179-5ce0c56881ce.jpg -> Annotation:C:/Users/gilya/Desktop/jupiter virtual Environment/Tensorflow/workspace/images/collectedimages/thumb_up/thumb_up.e3571c8a-c6cc-11eb-8179-5ce0c56881ce.xml\n"
     ]
    },
    {
     "name": "stderr",
     "output_type": "stream",
     "text": [
      "Warning: QT_DEVICE_PIXEL_RATIO is deprecated. Instead use:\n",
      "   QT_AUTO_SCREEN_SCALE_FACTOR to enable platform plugin controlled per-screen factors.\n",
      "   QT_SCREEN_SCALE_FACTORS to set per-screen DPI.\n",
      "   QT_SCALE_FACTOR to set the application global scale factor.\n"
     ]
    }
   ],
   "source": [
    "!cd {LABELING_PATH} && python labelImg.py"
   ]
  },
  {
   "cell_type": "markdown",
   "metadata": {},
   "source": [
    "#  6. move the pictures into training and testing partition"
   ]
  },
  {
   "cell_type": "code",
   "execution_count": null,
   "metadata": {},
   "outputs": [],
   "source": [
    "IMAGES_PATH = os.path.join('Tensorflow', 'workspace','images','collectedimages')"
   ]
  }
 ],
 "metadata": {
  "kernelspec": {
   "display_name": "virtualIsolatedFolder",
   "language": "python",
   "name": "virtualisolatedfolder"
  },
  "language_info": {
   "codemirror_mode": {
    "name": "ipython",
    "version": 3
   },
   "file_extension": ".py",
   "mimetype": "text/x-python",
   "name": "python",
   "nbconvert_exporter": "python",
   "pygments_lexer": "ipython3",
   "version": "3.7.3"
  }
 },
 "nbformat": 4,
 "nbformat_minor": 2
}
